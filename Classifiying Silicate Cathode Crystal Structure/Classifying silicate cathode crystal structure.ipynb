{
 "cells": [
  {
   "cell_type": "markdown",
   "id": "a63b24c7-968b-42a7-b7c9-38d7bc7efd7d",
   "metadata": {},
   "source": [
    "# Classifying Silicate Cathode Crystal Structures"
   ]
  },
  {
   "cell_type": "markdown",
   "id": "48d4b13c-4b5a-4b4b-9be2-c8dfd5d249f7",
   "metadata": {},
   "source": [
    "We have data from https://www.kaggle.com/datasets/divyansh22/crystal-system-properties-for-liion-batteries that gives us features of various Li-ion silicate cathodes as well as the target of crystal structure (one of three classes: monoclinic, orthorhombic, or triclinic). "
   ]
  },
  {
   "cell_type": "markdown",
   "id": "4780270a-804e-432e-8853-32e0f51f838d",
   "metadata": {},
   "source": [
    "### Pre-processing for tree-based model"
   ]
  },
  {
   "cell_type": "code",
   "execution_count": 16,
   "id": "20cf403d-6e73-4050-b93c-e31a5094a19f",
   "metadata": {},
   "outputs": [],
   "source": [
    "from sklearn.preprocessing import LabelEncoder\n",
    "import pandas as pd\n",
    "\n",
    "# Load the file\n",
    "df = pd.read_csv('lithium-ion batteries.csv')\n",
    "\n",
    "# Copy dataframe to avoid modifying original\n",
    "df_encoded = df.copy()\n",
    "\n",
    "# Drop 'Formula' as it's not ideal for direct encoding\n",
    "df_encoded = df_encoded.drop(columns=['Formula'])\n",
    "\n",
    "# Encode 'Spacegroup' and 'Crystal System'\n",
    "label_encoders = {}\n",
    "for col in ['Spacegroup', 'Crystal System']:\n",
    "    le = LabelEncoder()\n",
    "    df_encoded[col] = le.fit_transform(df_encoded[col])\n",
    "    label_encoders[col] = le  # Save encoders in case we want to inverse transform later\n",
    "\n",
    "# Convert 'Has Bandstructure' from True/False to 1/0\n",
    "df_encoded['Has Bandstructure'] = df_encoded['Has Bandstructure'].astype(int)"
   ]
  },
  {
   "cell_type": "markdown",
   "id": "92eae045-42d7-4a3a-9899-254b89cfab2b",
   "metadata": {},
   "source": [
    "### Training"
   ]
  },
  {
   "cell_type": "code",
   "execution_count": 19,
   "id": "decceec5-5b57-476d-a680-0fcb4c67d50f",
   "metadata": {},
   "outputs": [],
   "source": [
    "from sklearn.model_selection import train_test_split\n",
    "\n",
    "X = df_encoded.drop(['Crystal System', 'Materials Id'], axis=1)  # Features\n",
    "y = df_encoded['Crystal System']               # Target\n",
    "\n",
    "X_train, X_test, y_train, y_test = train_test_split(X, y, test_size=0.2, random_state=42)"
   ]
  },
  {
   "cell_type": "code",
   "execution_count": 46,
   "id": "fb7ef5cf-cbb8-462a-934c-395ac773ca77",
   "metadata": {},
   "outputs": [],
   "source": [
    "from xgboost import XGBClassifier\n",
    "\n",
    "model = XGBClassifier(\n",
    "    objective='multi:softprob',  # or 'multi:softmax' if you want predicted classes directly\n",
    "    num_class=len(y.unique()),  # number of classes in your target    \n",
    "    eval_metric='mlogloss'     # multiclass log loss\n",
    ")\n",
    "\n",
    "model.fit(X_train, y_train);"
   ]
  },
  {
   "cell_type": "markdown",
   "id": "d7b40116-b3b1-40a3-b266-fbbf47490f5a",
   "metadata": {},
   "source": [
    "### Evaluation"
   ]
  },
  {
   "cell_type": "code",
   "execution_count": 42,
   "id": "96c87298-3e0e-437e-9cc6-5f55bea66b63",
   "metadata": {},
   "outputs": [],
   "source": [
    "y_pred = model.predict(X_test)"
   ]
  },
  {
   "cell_type": "code",
   "execution_count": 47,
   "id": "edef5f37-5b33-4cde-8fce-14bf46725ae6",
   "metadata": {},
   "outputs": [
    {
     "name": "stdout",
     "output_type": "stream",
     "text": [
      "Accuracy: 0.9852941176470589\n",
      "              precision    recall  f1-score   support\n",
      "\n",
      "           0       0.97      1.00      0.98        31\n",
      "           1       1.00      0.95      0.97        19\n",
      "           2       1.00      1.00      1.00        18\n",
      "\n",
      "    accuracy                           0.99        68\n",
      "   macro avg       0.99      0.98      0.99        68\n",
      "weighted avg       0.99      0.99      0.99        68\n",
      "\n"
     ]
    }
   ],
   "source": [
    "from sklearn.metrics import accuracy_score, classification_report\n",
    "\n",
    "# Calculate the accuracy \n",
    "print(\"Accuracy:\", accuracy_score(y_test, y_pred))\n",
    "print(classification_report(y_test, y_pred))"
   ]
  },
  {
   "cell_type": "code",
   "execution_count": 48,
   "id": "dff23c31-226f-4f60-9e48-9036d330d332",
   "metadata": {},
   "outputs": [
    {
     "data": {
      "image/png": "[encoded data removed]",
      "text/plain": [
       "<Figure size 800x600 with 2 Axes>"
      ]
     },
     "metadata": {},
     "output_type": "display_data"
    }
   ],
   "source": [
    "import matplotlib.pyplot as plt\n",
    "import seaborn as sns\n",
    "from sklearn.metrics import confusion_matrix\n",
    "import numpy as np\n",
    "\n",
    "y_labels = label_encoders['Crystal System'].classes_\n",
    "\n",
    "# Generate confusion matrix\n",
    "conf_matrix = confusion_matrix(y_test, y_pred)\n",
    "\n",
    "# Plot it\n",
    "plt.figure(figsize=(8, 6))\n",
    "sns.heatmap(conf_matrix, annot=True, fmt=\"d\", cmap=\"Blues\",\n",
    "            xticklabels=y_labels, yticklabels=y_labels)\n",
    "plt.xlabel(\"Predicted Label\")\n",
    "plt.ylabel(\"True Label\")\n",
    "plt.title(\"Confusion Matrix\")\n",
    "plt.tight_layout()\n",
    "plt.show()"
   ]
  },
  {
   "attachments": {},
   "cell_type": "markdown",
   "id": "9b2eaeae-67d6-4de2-af2a-5eee6791a2c2",
   "metadata": {},
   "source": [
    "### Summary\n",
    "\n",
    "The high accuracy and str on the confusion matrix point to this being an effective model.\n",
    "\n"
   ]
  },
  {
   "cell_type": "code",
   "execution_count": null,
   "id": "31e02e30-9352-429a-bbdd-17eb9b354c7c",
   "metadata": {},
   "outputs": [],
   "source": []
  }
 ],
 "metadata": {
  "kernelspec": {
   "display_name": "Python 3 (ipykernel)",
   "language": "python",
   "name": "python3"
  },
  "language_info": {
   "codemirror_mode": {
    "name": "ipython",
    "version": 3
   },
   "file_extension": ".py",
   "mimetype": "text/x-python",
   "name": "python",
   "nbconvert_exporter": "python",
   "pygments_lexer": "ipython3",
   "version": "3.9.10"
  }
 },
 "nbformat": 4,
 "nbformat_minor": 5
}
