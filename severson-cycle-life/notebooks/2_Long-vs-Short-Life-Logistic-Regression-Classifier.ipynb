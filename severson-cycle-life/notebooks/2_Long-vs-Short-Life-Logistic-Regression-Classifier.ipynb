{
 "cells": [
  {
   "cell_type": "markdown",
   "id": "edddd8e1-278a-401e-abd9-8957cbbdd75a",
   "metadata": {},
   "source": [
    "# Classifying long vs short life in LFP/Graphite cells 👬\n",
    "\n",
    "### In this notebook, we are using binary logistic regression to classify long vs short lived cells, based on the efforts of Severson et. al in \"Data-driven prediction of battery cycle life before capacity degradation\" 💻 \n",
    "\n",
    "### This is a second part of the project. Most of the functions are defined in the first part, where linear regression was used to predict the cycle life of the same cells 🥈\n",
    "---------------------------------"
   ]
  },
  {
   "cell_type": "markdown",
   "id": "fcefabe5-b3f8-4f19-84ad-12c8ab5f29a1",
   "metadata": {},
   "source": [
    "## We must again first load the data 📊"
   ]
  },
  {
   "cell_type": "code",
   "execution_count": 25,
   "id": "f78257fb-e559-4374-8942-f38f5c16f830",
   "metadata": {},
   "outputs": [],
   "source": [
    "import pickle\n",
    "\n",
    "def load_batches(paths):\n",
    "    all_cells = {}\n",
    "    for path in paths:\n",
    "        with open(path, 'rb') as f:\n",
    "            batch = pickle.load(f)\n",
    "        all_cells.update(batch)\n",
    "    return all_cells\n",
    "\n",
    "batch_paths = ['../data/batch1.pkl', '../data/batch2.pkl', '../data/batch3.pkl']\n",
    "cells = load_batches(batch_paths)"
   ]
  },
  {
   "cell_type": "markdown",
   "id": "a947a993-6496-412b-b113-af0f7ddd9b5e",
   "metadata": {},
   "source": [
    "## Now, we need to make and train our models 👨‍🍼\n",
    "\n",
    "To get started, we'll load functions from our other notebook into a namespace `ns`."
   ]
  },
  {
   "cell_type": "code",
   "execution_count": 51,
   "id": "9c4ca3dc-35c4-4300-9a65-4ed680a2e978",
   "metadata": {},
   "outputs": [],
   "source": [
    "import numpy as np\n",
    "from sklearn.model_selection import train_test_split\n",
    "from sklearn.preprocessing import RobustScaler\n",
    "import nbformat, ast\n",
    "\n",
    "def load_functions_from_ipynb(path, function_names):\n",
    "\n",
    "    namespace = {}\n",
    "\n",
    "    with open(path) as f:\n",
    "        nb = nbformat.read(f, as_version=4)\n",
    "\n",
    "    # These cells are talking about the markdown/code cells in the other ipynb -- NOT the battery cells\n",
    "    for cell in nb.cells:\n",
    "        \n",
    "        if cell.cell_type != \"code\":\n",
    "            continue\n",
    "\n",
    "        parsed = ast.parse(cell.source)\n",
    "        for node in parsed.body:\n",
    "            if isinstance(node, ast.FunctionDef) and node.name in function_names:\n",
    "                exec(compile(ast.Module([node], []), filename=\"<ast>\", mode=\"exec\"), namespace)\n",
    "\n",
    "    \n",
    "    namespace['np'] = np\n",
    "    namespace['cells'] = cells # battery cells loaded from load_batches into the namespace, not the markdown/code cells of the ipynb file\n",
    "    namespace['train_test_split'] = train_test_split\n",
    "    namespace['RobustScaler'] = RobustScaler\n",
    "\n",
    "    return namespace\n",
    "\n",
    "function_names = ['extract_features_simple', 'extract_features_full', 'create_X_y_arrays', 'split_and_fit', ]\n",
    "\n",
    "ns = load_functions_from_ipynb(r\"1_Cycle-life-prediction-using-interpretable-ML.ipynb\", function_names)"
   ]
  },
  {
   "cell_type": "markdown",
   "id": "1ee1fcaf-d513-410d-a932-e8ba77071723",
   "metadata": {},
   "source": [
    "The next step is to create the feature and target arrays."
   ]
  },
  {
   "cell_type": "code",
   "execution_count": 52,
   "id": "dc74c447-014e-45a6-a234-d540e5b3ab26",
   "metadata": {},
   "outputs": [],
   "source": [
    "X_simple, y_numeric = ns['create_X_y_arrays'](ns['extract_features_simple'])\n",
    "X_full, _  = ns['create_X_y_arrays'](ns['extract_features_full'])\n",
    "\n",
    "cycle_threshold = 550 # number of cycles used to say if it's a short or long-lived cell\n",
    "y = [1 if y_numeric[i] >= cycle_threshold else 0 for i in range(len(y_numeric))]"
   ]
  },
  {
   "cell_type": "markdown",
   "id": "f95710d0-4793-4533-8006-ea185278e10a",
   "metadata": {},
   "source": [
    "With the feature and target arrays in hand, we will use our `split_and_fit` function from the other notebook, with the `LogisticRegression` model from `sklearn.linear_model`. First, we'll train the logistic regression model on the simple features, then on the full features."
   ]
  },
  {
   "cell_type": "code",
   "execution_count": 53,
   "id": "0e01b46d-fd52-41eb-90ac-c71ef3fe8054",
   "metadata": {},
   "outputs": [],
   "source": [
    "from sklearn.linear_model import LogisticRegression\n",
    "\n",
    "y_train, y_test, y_pred_train_simple, y_pred_test_simple = ns['split_and_fit'](X_simple, y, LogisticRegression(), exponentiate = False)\n",
    "\n",
    "y_train, y_test, y_pred_train_full, y_pred_test_full = ns['split_and_fit'](X_full, y, LogisticRegression(), exponentiate = False)"
   ]
  },
  {
   "cell_type": "markdown",
   "id": "0dfe331b-04c3-4966-8949-df9135b145c6",
   "metadata": {},
   "source": [
    "## Finally, lets compare the models and see how well they predict 🤼‍♂️🔬\n",
    "\n",
    "We'll use confusion matrices, where values along the top left - bottom right diagonal are correct."
   ]
  },
  {
   "cell_type": "code",
   "execution_count": 56,
   "id": "91857c5e-c0f5-4f56-87ae-f31a2439933b",
   "metadata": {},
   "outputs": [
    {
     "data": {
      "image/png": "[encoded data removed]",
      "text/plain": [
       "<Figure size 1000x400 with 4 Axes>"
      ]
     },
     "metadata": {},
     "output_type": "display_data"
    }
   ],
   "source": [
    "import matplotlib.pyplot as plt\n",
    "from sklearn.metrics import ConfusionMatrixDisplay\n",
    "\n",
    "fig, axs = plt.subplots(1, 2, figsize=(10, 4))\n",
    "\n",
    "ConfusionMatrixDisplay.from_predictions(y_test, y_pred_test_simple, ax=axs[0])\n",
    "axs[0].set_title(\"Simple Model\")\n",
    "\n",
    "ConfusionMatrixDisplay.from_predictions(y_test, y_pred_test_full, ax=axs[1])\n",
    "axs[1].set_title(\"Full Model\")\n",
    "\n",
    "plt.tight_layout()\n",
    "plt.show()"
   ]
  },
  {
   "cell_type": "markdown",
   "id": "24a7893d-634c-4534-ae11-9f52045bbab5",
   "metadata": {},
   "source": [
    "So, the simple model based only on cycle 10 to cycle 100 voltage variance actually performs very strongly. But, the full model is able to predict even better. In this exact set up, the full model predicts the test data with no errors. "
   ]
  },
  {
   "cell_type": "markdown",
   "id": "5c44c5a2-98be-4eb0-9ebc-454a5df4b8ef",
   "metadata": {},
   "source": [
    "## Comparison to the original Severson project ⚖️\n",
    "\n",
    "Up to this point, I have used the same features I used for cycle life prediction for classification. However, there is a downside to this: the features used gather data all the way up to the 100th cycle. Severson et al. were able to get reasonable predictive power using only the first 5 cycles, which offers massive advantages in terms of cost and time savings. \n",
    "\n",
    "So, I'll redo the former models using only the first 5 cycles, and see if we can still get reasonable performance. (Instead of comparing the 10th cycle to the 100th for the simple model, I'll use the 1st and 5th.)"
   ]
  },
  {
   "cell_type": "code",
   "execution_count": 57,
   "id": "79939b86-7ccd-457d-8475-162babef1eef",
   "metadata": {},
   "outputs": [
    {
     "name": "stderr",
     "output_type": "stream",
     "text": [
      "/Users/edmund/.pyenv/versions/3.9.10/lib/python3.9/site-packages/sklearn/linear_model/_logistic.py:465: ConvergenceWarning: lbfgs failed to converge (status=1):\n",
      "STOP: TOTAL NO. of ITERATIONS REACHED LIMIT.\n",
      "\n",
      "Increase the number of iterations (max_iter) or scale the data as shown in:\n",
      "    https://scikit-learn.org/stable/modules/preprocessing.html\n",
      "Please also refer to the documentation for alternative solver options:\n",
      "    https://scikit-learn.org/stable/modules/linear_model.html#logistic-regression\n",
      "  n_iter_i = _check_optimize_result(\n"
     ]
    },
    {
     "data": {
      "image/png": "[encoded data removed]",
      "text/plain": [
       "<Figure size 1000x400 with 4 Axes>"
      ]
     },
     "metadata": {},
     "output_type": "display_data"
    }
   ],
   "source": [
    "ref_cycle, max_cycle = 1, 5\n",
    "\n",
    "# Getting feature and target matrices\n",
    "X_simple, y_numeric = ns['create_X_y_arrays'](ns['extract_features_simple'], ref_cycle, max_cycle)\n",
    "X_full, _  = ns['create_X_y_arrays'](ns['extract_features_full'], ref_cycle, max_cycle)\n",
    "y = [1 if y_numeric[i] >= cycle_threshold else 0 for i in range(len(y_numeric))]\n",
    "\n",
    "# Split, fit, and train\n",
    "y_train, y_test, y_pred_train_simple, y_pred_test_simple = ns['split_and_fit'](X_simple, y, LogisticRegression(), exponentiate = False)\n",
    "y_train, y_test, y_pred_train_full, y_pred_test_full = ns['split_and_fit'](X_full, y, LogisticRegression(), exponentiate = False)\n",
    "\n",
    "# Plot\n",
    "fig, axs = plt.subplots(1, 2, figsize=(10, 4))\n",
    "\n",
    "ConfusionMatrixDisplay.from_predictions(y_test, y_pred_test_simple, ax=axs[0])\n",
    "axs[0].set_title(\"Simple Model\")\n",
    "\n",
    "ConfusionMatrixDisplay.from_predictions(y_test, y_pred_test_full, ax=axs[1])\n",
    "axs[1].set_title(\"Full Model\")\n",
    "\n",
    "plt.tight_layout()\n",
    "plt.show()"
   ]
  },
  {
   "cell_type": "markdown",
   "id": "5902bc37-d2b1-43a9-b6c1-4012ed362cde",
   "metadata": {},
   "source": [
    "So, with using only 5 cycles, we have `22/28 = 79%` accuracy for the simple model, and `26/28 = 93%` accuracy, which is comparable to the numbers obtained by Severson et al."
   ]
  },
  {
   "cell_type": "markdown",
   "id": "e2e273c7-cfdf-4052-b09d-bf057846c464",
   "metadata": {},
   "source": [
    "## Conclusion 🫀\n",
    "\n",
    "It is very reassuring that cells -- at least commercial LFP/graphite cells like the ones analyzed here -- can be classified into short and long life from fairly limited cycle life data."
   ]
  },
  {
   "cell_type": "code",
   "execution_count": null,
   "id": "ae5932d8-9872-4888-849f-03ec01be08d2",
   "metadata": {},
   "outputs": [],
   "source": []
  }
 ],
 "metadata": {
  "kernelspec": {
   "display_name": "Python 3 (ipykernel)",
   "language": "python",
   "name": "python3"
  },
  "language_info": {
   "codemirror_mode": {
    "name": "ipython",
    "version": 3
   },
   "file_extension": ".py",
   "mimetype": "text/x-python",
   "name": "python",
   "nbconvert_exporter": "python",
   "pygments_lexer": "ipython3",
   "version": "3.9.10"
  }
 },
 "nbformat": 4,
 "nbformat_minor": 5
}
