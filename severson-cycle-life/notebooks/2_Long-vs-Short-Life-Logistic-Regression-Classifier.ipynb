{
 "cells": [
  {
   "cell_type": "markdown",
   "id": "edddd8e1-278a-401e-abd9-8957cbbdd75a",
   "metadata": {},
   "source": [
    "# Classifying long vs short life in LFP/Graphite cells 👬\n",
    "\n",
    "### In this notebook, we are using binary logistic regression to classify long vs short lived cells, based on the efforts of Severson et. al in \"Data-driven prediction of battery cycle life before capacity degradation\" 💻\n",
    "---------------------------------"
   ]
  },
  {
   "cell_type": "markdown",
   "id": "fcefabe5-b3f8-4f19-84ad-12c8ab5f29a1",
   "metadata": {},
   "source": [
    "## We must again first load the data 📊"
   ]
  },
  {
   "cell_type": "code",
   "execution_count": 1,
   "id": "f78257fb-e559-4374-8942-f38f5c16f830",
   "metadata": {},
   "outputs": [],
   "source": [
    "import pickle\n",
    "\n",
    "def load_batches(paths):\n",
    "    all_cells = {}\n",
    "    for path in paths:\n",
    "        with open(path, 'rb') as f:\n",
    "            batch = pickle.load(f)\n",
    "        all_cells.update(batch)\n",
    "    return all_cells\n",
    "\n",
    "batch_paths = ['../data/batch1.pkl', '../data/batch2.pkl', '../data/batch3.pkl']\n",
    "cells = load_batches(batch_paths)"
   ]
  },
  {
   "cell_type": "markdown",
   "id": "a947a993-6496-412b-b113-af0f7ddd9b5e",
   "metadata": {},
   "source": [
    "## Now, we need to make and train our models 👨‍🍼\n",
    "\n",
    "To get started, we'll load functions from our other notebook."
   ]
  },
  {
   "cell_type": "code",
   "execution_count": 2,
   "id": "9c4ca3dc-35c4-4300-9a65-4ed680a2e978",
   "metadata": {},
   "outputs": [
    {
     "name": "stdout",
     "output_type": "stream",
     "text": [
      "Loading function: extract_features_simple\n",
      "Loading function: create_X_y_arrays\n",
      "Loading function: split_and_fit\n",
      "Loading function: extract_features_full\n"
     ]
    }
   ],
   "source": [
    "def load_functions_from_ipynb(path, function_names, namespace=None):\n",
    "    import nbformat, ast\n",
    "\n",
    "    if namespace is None:\n",
    "        namespace = {}\n",
    "\n",
    "    with open(path) as f:\n",
    "        nb = nbformat.read(f, as_version=4)\n",
    "\n",
    "    for cell in nb.cells:\n",
    "        if cell.cell_type != \"code\":\n",
    "            continue\n",
    "\n",
    "        try:\n",
    "            parsed = ast.parse(cell.source)\n",
    "            for node in parsed.body:\n",
    "                if isinstance(node, ast.FunctionDef) and node.name in function_names:\n",
    "                    print(f\"Loading function: {node.name}\")  # 👈 helpful debug\n",
    "                    exec(compile(ast.Module([node], []), filename=\"<ast>\", mode=\"exec\"), namespace)\n",
    "        except Exception as e:\n",
    "            print(f\"Skipping cell due to error: {e}\")  # 👈 helpful debug\n",
    "\n",
    "    \n",
    "\n",
    "    return namespace\n",
    "\n",
    "\n",
    "function_names = ['extract_features_simple',\n",
    "                  'extract_features_full',\n",
    "                  'create_X_y_arrays',\n",
    "                  'split_and_fit', ]\n",
    "\n",
    "ns = load_functions_from_ipynb(r\"1_Cycle-life-prediction-using-interpretable-ML.ipynb\", function_names)"
   ]
  },
  {
   "cell_type": "markdown",
   "id": "1ee1fcaf-d513-410d-a932-e8ba77071723",
   "metadata": {},
   "source": [
    "Now, we need to create the feature and target arrays."
   ]
  },
  {
   "cell_type": "code",
   "execution_count": 5,
   "id": "dc74c447-014e-45a6-a234-d540e5b3ab26",
   "metadata": {},
   "outputs": [],
   "source": [
    "import numpy as np\n",
    "ns['np'] = np\n",
    "ns['cells'] = cells\n",
    "X_simple, y_numeric = ns['create_X_y_arrays'](ns['extract_features_simple'])\n",
    "X_full = ns['create_X_y_arrays'](ns['extract_features_full'])[0]\n",
    "\n",
    "cycle_threshold = 550 # number of cycles used to say if it's a short or long-lived cell\n",
    "y = "
   ]
  },
  {
   "cell_type": "code",
   "execution_count": null,
   "id": "15160608-9260-4b34-ab36-c8d71c70d1d0",
   "metadata": {},
   "outputs": [],
   "source": []
  },
  {
   "cell_type": "code",
   "execution_count": null,
   "id": "0e01b46d-fd52-41eb-90ac-c71ef3fe8054",
   "metadata": {},
   "outputs": [],
   "source": []
  }
 ],
 "metadata": {
  "kernelspec": {
   "display_name": "Python 3 (ipykernel)",
   "language": "python",
   "name": "python3"
  },
  "language_info": {
   "codemirror_mode": {
    "name": "ipython",
    "version": 3
   },
   "file_extension": ".py",
   "mimetype": "text/x-python",
   "name": "python",
   "nbconvert_exporter": "python",
   "pygments_lexer": "ipython3",
   "version": "3.9.10"
  }
 },
 "nbformat": 4,
 "nbformat_minor": 5
}
